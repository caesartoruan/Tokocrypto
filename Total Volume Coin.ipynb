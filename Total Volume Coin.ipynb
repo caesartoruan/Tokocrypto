{
 "cells": [
  {
   "cell_type": "code",
   "execution_count": 2,
   "id": "e39404a8",
   "metadata": {},
   "outputs": [],
   "source": [
    "from datetime import date, timedelta\n",
    "import requests\n",
    "import json\n",
    "import pprint\n",
    "import pandas as pd"
   ]
  },
  {
   "cell_type": "code",
   "execution_count": 34,
   "id": "b7276374",
   "metadata": {},
   "outputs": [],
   "source": [
    "start_date = date(2022, 2, 1)\n",
    "end_date = date(2022, 2, 28)\n",
    "delta = timedelta(days=1)\n",
    "total = 0"
   ]
  },
  {
   "cell_type": "code",
   "execution_count": 35,
   "id": "d73db56a",
   "metadata": {},
   "outputs": [
    {
     "name": "stdout",
     "output_type": "stream",
     "text": [
      "1060569996\n"
     ]
    }
   ],
   "source": [
    "while start_date <= end_date:\n",
    "    website = 'https://api.coingecko.com/api/v3/coins/binanceidr/history?date=' + start_date.strftime(\"%d-%m-%Y\")\n",
    "    t = requests.get(website).text\n",
    "    t = json.loads(t)\n",
    "    total += int(t['market_data']['total_volume']['usd'])\n",
    "    start_date += delta\n",
    "print(total)"
   ]
  },
  {
   "cell_type": "code",
   "execution_count": 11,
   "id": "e94d5142",
   "metadata": {},
   "outputs": [
    {
     "name": "stdout",
     "output_type": "stream",
     "text": [
      "399818624268.77997\n"
     ]
    }
   ],
   "source": [
    "t = requests.get('https://api.coingecko.com/api/v3/coins/binanceidr/history?date=30-1-2022').text\n",
    "t = json.loads(t)\n",
    "print(t['market_data']['total_volume']['idr'])"
   ]
  },
  {
   "cell_type": "code",
   "execution_count": null,
   "id": "51a794a9",
   "metadata": {},
   "outputs": [],
   "source": []
  }
 ],
 "metadata": {
  "kernelspec": {
   "display_name": "Python 3 (ipykernel)",
   "language": "python",
   "name": "python3"
  },
  "language_info": {
   "codemirror_mode": {
    "name": "ipython",
    "version": 3
   },
   "file_extension": ".py",
   "mimetype": "text/x-python",
   "name": "python",
   "nbconvert_exporter": "python",
   "pygments_lexer": "ipython3",
   "version": "3.9.7"
  }
 },
 "nbformat": 4,
 "nbformat_minor": 5
}
