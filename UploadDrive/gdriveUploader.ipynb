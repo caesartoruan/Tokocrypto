{
 "cells": [
  {
   "cell_type": "code",
   "execution_count": 10,
   "id": "0c7d45dc",
   "metadata": {},
   "outputs": [],
   "source": [
    "import os\n",
    "from pydrive.auth import GoogleAuth\n",
    "from pydrive.drive import GoogleDrive"
   ]
  },
  {
   "cell_type": "code",
   "execution_count": 9,
   "id": "4cd19de1",
   "metadata": {},
   "outputs": [],
   "source": [
    "gauth = GoogleAuth()\n",
    "drive = GoogleDrive(gauth)"
   ]
  },
  {
   "cell_type": "code",
   "execution_count": 11,
   "id": "1c0fa4c4",
   "metadata": {},
   "outputs": [],
   "source": [
    "# GDrive Address\n",
    "folder = \"1nZxStyHRRAZ17EuiDynH7ez44ehbFvMc\""
   ]
  },
  {
   "cell_type": "code",
   "execution_count": 14,
   "id": "bbdba97f",
   "metadata": {},
   "outputs": [],
   "source": [
    "# Directory yang terdapat seluruh file yang ingin diupload\n",
    "directory = \"/Users/caesar/Desktop/Twitter\""
   ]
  },
  {
   "cell_type": "code",
   "execution_count": 23,
   "id": "53765185",
   "metadata": {},
   "outputs": [],
   "source": [
    "#Upload Semua File\n",
    "for f in os.listdir(directory):\n",
    "    filename = os.path.join(directory, f)\n",
    "    gfile = drive.CreateFile({'parents' : [{'id' : folder}], 'title' : f})\n",
    "    gfile.SetContentFile(filename)\n",
    "    gfile.Upload()"
   ]
  },
  {
   "cell_type": "code",
   "execution_count": 21,
   "id": "33116c68",
   "metadata": {},
   "outputs": [
    {
     "name": "stdout",
     "output_type": "stream",
     "text": [
      ".DS_Store\n",
      "convo1.xlsx\n"
     ]
    }
   ],
   "source": [
    "for f in os.listdir(directory):\n",
    "    print(f)"
   ]
  },
  {
   "cell_type": "code",
   "execution_count": null,
   "id": "ceea389a",
   "metadata": {},
   "outputs": [],
   "source": []
  }
 ],
 "metadata": {
  "kernelspec": {
   "display_name": "Python 3 (ipykernel)",
   "language": "python",
   "name": "python3"
  },
  "language_info": {
   "codemirror_mode": {
    "name": "ipython",
    "version": 3
   },
   "file_extension": ".py",
   "mimetype": "text/x-python",
   "name": "python",
   "nbconvert_exporter": "python",
   "pygments_lexer": "ipython3",
   "version": "3.9.7"
  }
 },
 "nbformat": 4,
 "nbformat_minor": 5
}
